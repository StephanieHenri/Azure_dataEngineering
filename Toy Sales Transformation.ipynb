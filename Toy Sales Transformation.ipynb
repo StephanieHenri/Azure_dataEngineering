{
 "cells": [
  {
   "cell_type": "code",
   "execution_count": null,
   "metadata": {},
   "outputs": [],
   "source": [
    "dbutils.fs.mount(\n",
    "source = \"wasbs://toysales-data@toysales.blob.core.windows.net\",\n",
    "mount_point = \"/mnt/toysales-data\",\n",
    "extra_configs = {\"fs.azure.account.key.toysales.blob.core.windows.net\":\"\"})"
   ]
  },
  {
   "cell_type": "code",
   "execution_count": null,
   "metadata": {
    "application/vnd.databricks.v1+cell": {
     "cellMetadata": {
      "byteLimit": 2048000,
      "rowLimit": 10000
     },
     "inputWidgets": {},
     "nuid": "aeb61628-ce04-41b1-96d0-ec39c773e649",
     "showTitle": false,
     "title": ""
    }
   },
   "outputs": [
    {
     "data": {
      "text/plain": [
       "[FileInfo(path='dbfs:/mnt/toysales-data/raw-data/calendar.csv', name='calendar.csv', size=6930, modificationTime=1703777454000),\n",
       " FileInfo(path='dbfs:/mnt/toysales-data/raw-data/inventory.csv', name='inventory.csv', size=14675, modificationTime=1703777466000),\n",
       " FileInfo(path='dbfs:/mnt/toysales-data/raw-data/products.csv', name='products.csv', size=1572, modificationTime=1703777479000),\n",
       " FileInfo(path='dbfs:/mnt/toysales-data/raw-data/sales.csv', name='sales.csv', size=21783359, modificationTime=1703777495000),\n",
       " FileInfo(path='dbfs:/mnt/toysales-data/raw-data/stores.csv', name='stores.csv', size=2999, modificationTime=1703777510000)]"
      ]
     },
     "execution_count": 2,
     "metadata": {},
     "output_type": "execute_result"
    }
   ],
   "source": [
    "dbutils.fs.ls('/mnt/toysales-data/raw-data')"
   ]
  },
  {
   "cell_type": "code",
   "execution_count": null,
   "metadata": {
    "application/vnd.databricks.v1+cell": {
     "cellMetadata": {
      "byteLimit": 2048000,
      "rowLimit": 10000
     },
     "inputWidgets": {},
     "nuid": "5110c5f0-0570-43ec-868f-5ef8cfb50e37",
     "showTitle": false,
     "title": ""
    }
   },
   "outputs": [
    {
     "data": {
      "text/html": [
       "<style scoped>\n",
       "  .table-result-container {\n",
       "    max-height: 300px;\n",
       "    overflow: auto;\n",
       "  }\n",
       "  table, th, td {\n",
       "    border: 1px solid black;\n",
       "    border-collapse: collapse;\n",
       "  }\n",
       "  th, td {\n",
       "    padding: 5px;\n",
       "  }\n",
       "  th {\n",
       "    text-align: left;\n",
       "  }\n",
       "</style><div class='table-result-container'><table class='table-result'><thead style='background-color: white'><tr><th>path</th><th>name</th><th>size</th><th>modificationTime</th></tr></thead><tbody><tr><td>dbfs:/mnt/toysales-data/raw-data/calendar.csv</td><td>calendar.csv</td><td>6930</td><td>1703777454000</td></tr><tr><td>dbfs:/mnt/toysales-data/raw-data/inventory.csv</td><td>inventory.csv</td><td>14675</td><td>1703777466000</td></tr><tr><td>dbfs:/mnt/toysales-data/raw-data/products.csv</td><td>products.csv</td><td>1572</td><td>1703777479000</td></tr><tr><td>dbfs:/mnt/toysales-data/raw-data/sales.csv</td><td>sales.csv</td><td>21783359</td><td>1703777495000</td></tr><tr><td>dbfs:/mnt/toysales-data/raw-data/stores.csv</td><td>stores.csv</td><td>2999</td><td>1703777510000</td></tr></tbody></table></div>"
      ]
     },
     "metadata": {
      "application/vnd.databricks.v1+output": {
       "addedWidgets": {},
       "aggData": [],
       "aggError": "",
       "aggOverflow": false,
       "aggSchema": [],
       "aggSeriesLimitReached": false,
       "aggType": "",
       "arguments": {},
       "columnCustomDisplayInfos": {},
       "data": [
        [
         "dbfs:/mnt/toysales-data/raw-data/calendar.csv",
         "calendar.csv",
         6930,
         1703777454000
        ],
        [
         "dbfs:/mnt/toysales-data/raw-data/inventory.csv",
         "inventory.csv",
         14675,
         1703777466000
        ],
        [
         "dbfs:/mnt/toysales-data/raw-data/products.csv",
         "products.csv",
         1572,
         1703777479000
        ],
        [
         "dbfs:/mnt/toysales-data/raw-data/sales.csv",
         "sales.csv",
         21783359,
         1703777495000
        ],
        [
         "dbfs:/mnt/toysales-data/raw-data/stores.csv",
         "stores.csv",
         2999,
         1703777510000
        ]
       ],
       "datasetInfos": [],
       "dbfsResultPath": null,
       "isJsonSchema": true,
       "metadata": {
        "isDbfsCommandResult": false
       },
       "overflow": false,
       "plotOptions": {
        "customPlotOptions": {},
        "displayType": "table",
        "pivotAggregation": null,
        "pivotColumns": null,
        "xColumns": null,
        "yColumns": null
       },
       "removedWidgets": [],
       "schema": [
        {
         "metadata": "{}",
         "name": "path",
         "type": "\"string\""
        },
        {
         "metadata": "{}",
         "name": "name",
         "type": "\"string\""
        },
        {
         "metadata": "{}",
         "name": "size",
         "type": "\"long\""
        },
        {
         "metadata": "{}",
         "name": "modificationTime",
         "type": "\"long\""
        }
       ],
       "type": "table"
      }
     },
     "output_type": "display_data"
    }
   ],
   "source": [
    "%fs\n",
    "ls \"/mnt/toysales-data/raw-data\""
   ]
  },
  {
   "cell_type": "code",
   "execution_count": null,
   "metadata": {
    "application/vnd.databricks.v1+cell": {
     "cellMetadata": {
      "byteLimit": 2048000,
      "rowLimit": 10000
     },
     "inputWidgets": {},
     "nuid": "cc15bd32-85e9-41e1-b834-f929a7a17a03",
     "showTitle": false,
     "title": ""
    }
   },
   "outputs": [],
   "source": [
    "from pyspark.sql.functions import to_date,to_timestamp,col,lit\n",
    "from pyspark.sql import functions as F, types as T\n",
    "from pyspark.sql.functions import col\n",
    "from pyspark.sql.types import IntegerType, DoubleType, BooleanType, DateType, FloatType"
   ]
  },
  {
   "cell_type": "code",
   "execution_count": null,
   "metadata": {
    "application/vnd.databricks.v1+cell": {
     "cellMetadata": {
      "byteLimit": 2048000,
      "rowLimit": 10000
     },
     "inputWidgets": {},
     "nuid": "c335ca6d-b0cd-4163-91c3-d1b4eff6a4cc",
     "showTitle": false,
     "title": ""
    }
   },
   "outputs": [],
   "source": [
    "spark.conf.set(\"spark.sql.execution.arrow.pyspark.enabled\", \"true\")\n",
    "spark.conf.set(\"spark.sql.parquet.int96RebaseModeInWrite\", \"CORRECTED\")\n",
    "spark.conf.set(\"spark.sql.legacy.timeParserPolicy\", \"LEGACY\")"
   ]
  },
  {
   "cell_type": "code",
   "execution_count": null,
   "metadata": {
    "application/vnd.databricks.v1+cell": {
     "cellMetadata": {
      "byteLimit": 2048000,
      "rowLimit": 10000
     },
     "inputWidgets": {},
     "nuid": "bf695876-cb24-4d46-94e3-10b6879cad57",
     "showTitle": false,
     "title": ""
    }
   },
   "outputs": [],
   "source": [
    "calendar=spark.read.format(\"csv\").option(\"header\",\"true\").option(\"header\",\"true\").load(\"/mnt/toysales-data/raw-data/calendar.csv\")\n",
    "inventory=spark.read.format(\"csv\").option(\"header\",\"true\").option(\"header\",\"true\").load(\"/mnt/toysales-data/raw-data/inventory.csv\")\n",
    "products=spark.read.format(\"csv\").option(\"header\",\"true\").option(\"header\",\"true\").load(\"/mnt/toysales-data/raw-data/products.csv\")\n",
    "sales=spark.read.format(\"csv\").option(\"header\",\"true\").option(\"header\",\"true\").load(\"/mnt/toysales-data/raw-data/sales.csv\")\n",
    "stores=spark.read.format(\"csv\").option(\"header\",\"true\").option(\"header\",\"true\").load(\"/mnt/toysales-data/raw-data/stores.csv\")"
   ]
  },
  {
   "cell_type": "code",
   "execution_count": null,
   "metadata": {
    "application/vnd.databricks.v1+cell": {
     "cellMetadata": {
      "byteLimit": 2048000,
      "rowLimit": 10000
     },
     "inputWidgets": {},
     "nuid": "0ff45e50-e7be-4f7d-8c2a-78ce1bab944d",
     "showTitle": false,
     "title": ""
    }
   },
   "outputs": [
    {
     "name": "stdout",
     "output_type": "stream",
     "text": [
      "+--------+\n",
      "|    Date|\n",
      "+--------+\n",
      "|1/1/2022|\n",
      "|1/2/2022|\n",
      "+--------+\n",
      "only showing top 2 rows\n",
      "\n"
     ]
    }
   ],
   "source": [
    "calendar.show(2)"
   ]
  },
  {
   "cell_type": "code",
   "execution_count": null,
   "metadata": {
    "application/vnd.databricks.v1+cell": {
     "cellMetadata": {
      "byteLimit": 2048000,
      "rowLimit": 10000
     },
     "inputWidgets": {},
     "nuid": "19796efd-7830-45d9-98c5-3e621e10b2e1",
     "showTitle": false,
     "title": ""
    }
   },
   "outputs": [
    {
     "name": "stdout",
     "output_type": "stream",
     "text": [
      "root\n",
      " |-- Date: string (nullable = true)\n",
      "\n"
     ]
    }
   ],
   "source": [
    "calendar.printSchema()"
   ]
  },
  {
   "cell_type": "code",
   "execution_count": null,
   "metadata": {
    "application/vnd.databricks.v1+cell": {
     "cellMetadata": {
      "byteLimit": 2048000,
      "rowLimit": 10000
     },
     "inputWidgets": {},
     "nuid": "3fa096b3-d254-4c95-87f7-327805a64c27",
     "showTitle": false,
     "title": ""
    }
   },
   "outputs": [],
   "source": [
    "calendar=calendar.withColumn(\"Date\", to_date(col(\"Date\"), \"MM/dd/yyyy\").cast(DateType()))"
   ]
  },
  {
   "cell_type": "code",
   "execution_count": null,
   "metadata": {
    "application/vnd.databricks.v1+cell": {
     "cellMetadata": {
      "byteLimit": 2048000,
      "rowLimit": 10000
     },
     "inputWidgets": {},
     "nuid": "8b08c066-b5d3-450b-acfc-6be85aa4423e",
     "showTitle": false,
     "title": ""
    }
   },
   "outputs": [
    {
     "name": "stdout",
     "output_type": "stream",
     "text": [
      "root\n",
      " |-- Date: date (nullable = true)\n",
      "\n"
     ]
    }
   ],
   "source": [
    "calendar.printSchema()"
   ]
  },
  {
   "cell_type": "code",
   "execution_count": null,
   "metadata": {
    "application/vnd.databricks.v1+cell": {
     "cellMetadata": {
      "byteLimit": 2048000,
      "rowLimit": 10000
     },
     "inputWidgets": {},
     "nuid": "40c2ff80-331a-47e0-a21c-0e4430e86ff5",
     "showTitle": false,
     "title": ""
    }
   },
   "outputs": [
    {
     "name": "stdout",
     "output_type": "stream",
     "text": [
      "+----------+\n",
      "|      Date|\n",
      "+----------+\n",
      "|2022-01-01|\n",
      "|2022-01-02|\n",
      "|2022-01-03|\n",
      "|2022-01-04|\n",
      "|2022-01-05|\n",
      "|2022-01-06|\n",
      "|2022-01-07|\n",
      "|2022-01-08|\n",
      "|2022-01-09|\n",
      "|2022-01-10|\n",
      "|2022-01-11|\n",
      "|2022-01-12|\n",
      "|2022-01-13|\n",
      "|2022-01-14|\n",
      "|2022-01-15|\n",
      "|2022-01-16|\n",
      "|2022-01-17|\n",
      "|2022-01-18|\n",
      "|2022-01-19|\n",
      "|2022-01-20|\n",
      "|2022-01-21|\n",
      "|2022-01-22|\n",
      "|2022-01-23|\n",
      "|2022-01-24|\n",
      "|2022-01-25|\n",
      "|2022-01-26|\n",
      "|2022-01-27|\n",
      "|2022-01-28|\n",
      "|2022-01-29|\n",
      "|2022-01-30|\n",
      "+----------+\n",
      "only showing top 30 rows\n",
      "\n"
     ]
    }
   ],
   "source": [
    "calendar.show(30)"
   ]
  },
  {
   "cell_type": "code",
   "execution_count": null,
   "metadata": {
    "application/vnd.databricks.v1+cell": {
     "cellMetadata": {
      "byteLimit": 2048000,
      "rowLimit": 10000
     },
     "inputWidgets": {},
     "nuid": "472fe1be-f1f6-48db-afce-246a298a9c5b",
     "showTitle": false,
     "title": ""
    }
   },
   "outputs": [
    {
     "name": "stdout",
     "output_type": "stream",
     "text": [
      "+--------+----------+-------------+\n",
      "|Store_ID|Product_ID|Stock_On_Hand|\n",
      "+--------+----------+-------------+\n",
      "|       1|         1|           27|\n",
      "|       1|         2|            0|\n",
      "+--------+----------+-------------+\n",
      "only showing top 2 rows\n",
      "\n"
     ]
    }
   ],
   "source": [
    "inventory.show(2)"
   ]
  },
  {
   "cell_type": "code",
   "execution_count": null,
   "metadata": {
    "application/vnd.databricks.v1+cell": {
     "cellMetadata": {
      "byteLimit": 2048000,
      "rowLimit": 10000
     },
     "inputWidgets": {},
     "nuid": "8a839057-ef00-4413-b720-00c376f5c2cc",
     "showTitle": false,
     "title": ""
    }
   },
   "outputs": [
    {
     "name": "stdout",
     "output_type": "stream",
     "text": [
      "root\n",
      " |-- Store_ID: string (nullable = true)\n",
      " |-- Product_ID: string (nullable = true)\n",
      " |-- Stock_On_Hand: string (nullable = true)\n",
      "\n"
     ]
    }
   ],
   "source": [
    "inventory.printSchema()"
   ]
  },
  {
   "cell_type": "code",
   "execution_count": null,
   "metadata": {
    "application/vnd.databricks.v1+cell": {
     "cellMetadata": {
      "byteLimit": 2048000,
      "rowLimit": 10000
     },
     "inputWidgets": {},
     "nuid": "4892d035-9699-4e23-a93b-f3c68d494dc9",
     "showTitle": false,
     "title": ""
    }
   },
   "outputs": [],
   "source": [
    "inventory = inventory.withColumn(\"Store_ID\",col(\"Store_ID\").cast(IntegerType())).withColumn(\"Product_ID\",col(\"Product_ID\").cast(IntegerType())).withColumn(\"Stock_On_Hand\",col(\"Stock_On_Hand\").cast(IntegerType()))"
   ]
  },
  {
   "cell_type": "code",
   "execution_count": null,
   "metadata": {
    "application/vnd.databricks.v1+cell": {
     "cellMetadata": {
      "byteLimit": 2048000,
      "rowLimit": 10000
     },
     "inputWidgets": {},
     "nuid": "cef17438-08aa-44c6-88c6-b4fa15028bd1",
     "showTitle": false,
     "title": ""
    }
   },
   "outputs": [
    {
     "name": "stdout",
     "output_type": "stream",
     "text": [
      "root\n",
      " |-- Store_ID: integer (nullable = true)\n",
      " |-- Product_ID: integer (nullable = true)\n",
      " |-- Stock_On_Hand: integer (nullable = true)\n",
      "\n"
     ]
    }
   ],
   "source": [
    "inventory.printSchema()"
   ]
  },
  {
   "cell_type": "code",
   "execution_count": null,
   "metadata": {
    "application/vnd.databricks.v1+cell": {
     "cellMetadata": {
      "byteLimit": 2048000,
      "rowLimit": 10000
     },
     "inputWidgets": {},
     "nuid": "8f6c29c8-c6aa-48d3-b14d-9366cd4529b7",
     "showTitle": false,
     "title": ""
    }
   },
   "outputs": [
    {
     "name": "stdout",
     "output_type": "stream",
     "text": [
      "+----------+--------------+----------------+------------+-------------+\n",
      "|Product_ID|  Product_Name|Product_Category|Product_Cost|Product_Price|\n",
      "+----------+--------------+----------------+------------+-------------+\n",
      "|         1| Action Figure|            Toys|      $9.99 |      $15.99 |\n",
      "|         2|Animal Figures|            Toys|      $9.99 |      $12.99 |\n",
      "+----------+--------------+----------------+------------+-------------+\n",
      "only showing top 2 rows\n",
      "\n"
     ]
    }
   ],
   "source": [
    "products.show(2)"
   ]
  },
  {
   "cell_type": "code",
   "execution_count": null,
   "metadata": {
    "application/vnd.databricks.v1+cell": {
     "cellMetadata": {
      "byteLimit": 2048000,
      "rowLimit": 10000
     },
     "inputWidgets": {},
     "nuid": "befacf26-fd03-48e7-b89e-c4df53510ced",
     "showTitle": false,
     "title": ""
    }
   },
   "outputs": [
    {
     "name": "stdout",
     "output_type": "stream",
     "text": [
      "root\n",
      " |-- Product_ID: string (nullable = true)\n",
      " |-- Product_Name: string (nullable = true)\n",
      " |-- Product_Category: string (nullable = true)\n",
      " |-- Product_Cost: string (nullable = true)\n",
      " |-- Product_Price: string (nullable = true)\n",
      "\n"
     ]
    }
   ],
   "source": [
    "products.printSchema()"
   ]
  },
  {
   "cell_type": "code",
   "execution_count": null,
   "metadata": {
    "application/vnd.databricks.v1+cell": {
     "cellMetadata": {
      "byteLimit": 2048000,
      "rowLimit": 10000
     },
     "inputWidgets": {},
     "nuid": "62338b2e-f7a7-4608-ab19-3fc9d8d12df6",
     "showTitle": false,
     "title": ""
    }
   },
   "outputs": [],
   "source": [
    "products = products.withColumn('Product_Cost', F.regexp_replace(col('Product_Cost'), '\\$', '')).withColumn('Product_Price', F.regexp_replace(col('Product_Price'), '\\$', ''))\n",
    "products = products.withColumn(\"Product_ID\",col(\"Product_ID\").cast(IntegerType())).withColumn(\"Product_Cost\",col(\"Product_Cost\").cast(FloatType())).withColumn(\"Product_Price\",col(\"Product_Price\").cast(FloatType()))"
   ]
  },
  {
   "cell_type": "code",
   "execution_count": null,
   "metadata": {
    "application/vnd.databricks.v1+cell": {
     "cellMetadata": {
      "byteLimit": 2048000,
      "rowLimit": 10000
     },
     "inputWidgets": {},
     "nuid": "8b41e410-85ac-44eb-8014-20fb1291bf45",
     "showTitle": false,
     "title": ""
    }
   },
   "outputs": [
    {
     "name": "stdout",
     "output_type": "stream",
     "text": [
      "+-------+----------+--------+----------+-----+\n",
      "|Sale_ID|      Date|Store_ID|Product_ID|Units|\n",
      "+-------+----------+--------+----------+-----+\n",
      "|      1|2022-01-01|      24|         4|    1|\n",
      "|      2|2022-01-01|      28|         1|    1|\n",
      "+-------+----------+--------+----------+-----+\n",
      "only showing top 2 rows\n",
      "\n"
     ]
    }
   ],
   "source": [
    "sales.show(2)"
   ]
  },
  {
   "cell_type": "code",
   "execution_count": null,
   "metadata": {
    "application/vnd.databricks.v1+cell": {
     "cellMetadata": {
      "byteLimit": 2048000,
      "rowLimit": 10000
     },
     "inputWidgets": {},
     "nuid": "ee54cb63-c86d-469d-8089-b7156cc71fbb",
     "showTitle": false,
     "title": ""
    }
   },
   "outputs": [
    {
     "name": "stdout",
     "output_type": "stream",
     "text": [
      "root\n",
      " |-- Sale_ID: string (nullable = true)\n",
      " |-- Date: string (nullable = true)\n",
      " |-- Store_ID: string (nullable = true)\n",
      " |-- Product_ID: string (nullable = true)\n",
      " |-- Units: string (nullable = true)\n",
      "\n"
     ]
    }
   ],
   "source": [
    "sales.printSchema()"
   ]
  },
  {
   "cell_type": "code",
   "execution_count": null,
   "metadata": {
    "application/vnd.databricks.v1+cell": {
     "cellMetadata": {
      "byteLimit": 2048000,
      "rowLimit": 10000
     },
     "inputWidgets": {},
     "nuid": "5326f590-36ef-433c-8814-a44609ff12ad",
     "showTitle": false,
     "title": ""
    }
   },
   "outputs": [
    {
     "name": "stdout",
     "output_type": "stream",
     "text": [
      "+-------+----------+--------+----------+-----+\n",
      "|Sale_ID|      Date|Store_ID|Product_ID|Units|\n",
      "+-------+----------+--------+----------+-----+\n",
      "|      1|2022-01-01|      24|         4|    1|\n",
      "|      2|2022-01-01|      28|         1|    1|\n",
      "+-------+----------+--------+----------+-----+\n",
      "only showing top 2 rows\n",
      "\n"
     ]
    }
   ],
   "source": [
    "sales=sales.withColumn(\"Sale_ID\",col(\"Sale_ID\").cast(IntegerType()))\\\n",
    "    .withColumn(\"Date\", to_date(col(\"Date\"), \"yyyy-MM-dd\").cast(DateType()))\\\n",
    "        .withColumn(\"Store_ID\",col(\"Store_ID\").cast(IntegerType()))\\\n",
    "            .withColumn(\"Product_ID\",col(\"Product_ID\").cast(IntegerType()))\\\n",
    "                .withColumn(\"Units\",col(\"Units\").cast(IntegerType()))\n",
    "sales.show(2)"
   ]
  },
  {
   "cell_type": "code",
   "execution_count": null,
   "metadata": {
    "application/vnd.databricks.v1+cell": {
     "cellMetadata": {
      "byteLimit": 2048000,
      "rowLimit": 10000
     },
     "inputWidgets": {},
     "nuid": "fa9df814-9715-462e-90b5-b39f2e845704",
     "showTitle": false,
     "title": ""
    }
   },
   "outputs": [
    {
     "name": "stdout",
     "output_type": "stream",
     "text": [
      "+--------+--------------------+-----------+--------------+---------------+\n",
      "|Store_ID|          Store_Name| Store_City|Store_Location|Store_Open_Date|\n",
      "+--------+--------------------+-----------+--------------+---------------+\n",
      "|       1|Maven Toys Guadal...|Guadalajara|   Residential|     1992-09-18|\n",
      "|       2|Maven Toys Monter...|  Monterrey|   Residential|     1995-04-27|\n",
      "+--------+--------------------+-----------+--------------+---------------+\n",
      "only showing top 2 rows\n",
      "\n"
     ]
    }
   ],
   "source": [
    "stores.show(2)"
   ]
  },
  {
   "cell_type": "code",
   "execution_count": null,
   "metadata": {
    "application/vnd.databricks.v1+cell": {
     "cellMetadata": {
      "byteLimit": 2048000,
      "rowLimit": 10000
     },
     "inputWidgets": {},
     "nuid": "186ff598-d9a6-4e8d-ba2d-cbc787320511",
     "showTitle": false,
     "title": ""
    }
   },
   "outputs": [
    {
     "name": "stdout",
     "output_type": "stream",
     "text": [
      "root\n",
      " |-- Store_ID: string (nullable = true)\n",
      " |-- Store_Name: string (nullable = true)\n",
      " |-- Store_City: string (nullable = true)\n",
      " |-- Store_Location: string (nullable = true)\n",
      " |-- Store_Open_Date: string (nullable = true)\n",
      "\n"
     ]
    }
   ],
   "source": [
    "stores.printSchema()"
   ]
  },
  {
   "cell_type": "code",
   "execution_count": null,
   "metadata": {
    "application/vnd.databricks.v1+cell": {
     "cellMetadata": {
      "byteLimit": 2048000,
      "rowLimit": 10000
     },
     "inputWidgets": {},
     "nuid": "0a071ae7-c968-44be-bdcb-d891f8fe9069",
     "showTitle": false,
     "title": ""
    }
   },
   "outputs": [
    {
     "name": "stdout",
     "output_type": "stream",
     "text": [
      "+--------+--------------------+-----------+--------------+---------------+\n",
      "|Store_ID|          Store_Name| Store_City|Store_Location|Store_Open_Date|\n",
      "+--------+--------------------+-----------+--------------+---------------+\n",
      "|       1|Maven Toys Guadal...|Guadalajara|   Residential|     1992-09-18|\n",
      "|       2|Maven Toys Monter...|  Monterrey|   Residential|     1995-04-27|\n",
      "+--------+--------------------+-----------+--------------+---------------+\n",
      "only showing top 2 rows\n",
      "\n"
     ]
    }
   ],
   "source": [
    "stores=stores.withColumn(\"Store_ID\",col(\"Store_ID\").cast(IntegerType()))\\\n",
    "    .withColumn(\"Store_Open_Date\", to_date(col(\"Store_Open_Date\"), \"yyyy-MM-dd\").cast(DateType()))\n",
    "stores.show(2)"
   ]
  },
  {
   "cell_type": "code",
   "execution_count": null,
   "metadata": {
    "application/vnd.databricks.v1+cell": {
     "cellMetadata": {
      "byteLimit": 2048000,
      "rowLimit": 10000
     },
     "inputWidgets": {},
     "nuid": "5ac2b1dc-1db6-434e-8c5e-2b4f2b0cf95c",
     "showTitle": false,
     "title": ""
    }
   },
   "outputs": [
    {
     "name": "stdout",
     "output_type": "stream",
     "text": [
      "+--------------------+-----+-------------+----------+\n",
      "|        Product_Name|Units|Product_Price|Total_Cost|\n",
      "+--------------------+-----+-------------+----------+\n",
      "|       Action Figure|    1|        15.99|     15.99|\n",
      "|      Animal Figures|    1|        12.99|     12.99|\n",
      "|     Barrel O' Slime|    1|         3.99|      3.99|\n",
      "|    Chutes & Ladders|    1|        12.99|     12.99|\n",
      "|    Classic Dominoes|    1|         9.99|      9.99|\n",
      "|           Colorbuds|    1|        14.99|     14.99|\n",
      "|            Dart Gun|    1|        15.99|     15.99|\n",
      "|       Deck Of Cards|    1|         6.99|      6.99|\n",
      "|            Dino Egg|    1|        10.99|     10.99|\n",
      "|    Dinosaur Figures|    1|        14.99|     14.99|\n",
      "|       Etch A Sketch|    1|        20.99|     20.99|\n",
      "|  Foam Disk Launcher|    1|        11.99|     11.99|\n",
      "|    Gamer Headphones|    2|        20.99|     41.98|\n",
      "|       Glass Marbles|    1|        10.99|     10.99|\n",
      "|   Hot Wheels 5-Pack|    1|         5.99|      5.99|\n",
      "|               Jenga|    1|         9.99|      9.99|\n",
      "|     Kids Makeup Kit|    1|        19.99|     19.99|\n",
      "|         Lego Bricks|    1|        39.99|     39.99|\n",
      "|          Magic Sand|    1|        15.99|     15.99|\n",
      "|Mini Basketball Hoop|    2|        24.99|     49.98|\n",
      "+--------------------+-----+-------------+----------+\n",
      "only showing top 20 rows\n",
      "\n"
     ]
    }
   ],
   "source": [
    "# calculate total cost\n",
    "total_cost=products.join(sales).select(\"Product_Name\",\"Units\",\"Product_Price\", (products.Product_Price * sales.Units).alias(\"Total_Cost\"))\n",
    "total_cost.show()"
   ]
  },
  {
   "cell_type": "code",
   "execution_count": null,
   "metadata": {
    "application/vnd.databricks.v1+cell": {
     "cellMetadata": {
      "byteLimit": 2048000,
      "rowLimit": 10000
     },
     "inputWidgets": {},
     "nuid": "8665e8b3-d8c4-4b5e-8f49-9a6565d4629d",
     "showTitle": false,
     "title": ""
    }
   },
   "outputs": [
    {
     "name": "stdout",
     "output_type": "stream",
     "text": [
      "+--------------------+---------+\n",
      "|        Product_Name|  Revenue|\n",
      "+--------------------+---------+\n",
      "|         Lego Bricks|1199.7001|\n",
      "|           Toy Robot|    779.7|\n",
      "|     PlayDoh Playset|    749.7|\n",
      "|Mini Basketball Hoop|    749.7|\n",
      "|    Gamer Headphones|    629.7|\n",
      "|       Etch A Sketch|    629.7|\n",
      "|        Rubik's Cube|    599.7|\n",
      "|     Kids Makeup Kit|    599.7|\n",
      "|            Nerf Gun|    599.7|\n",
      "|            Monopoly|    599.7|\n",
      "+--------------------+---------+\n",
      "only showing top 10 rows\n",
      "\n"
     ]
    }
   ],
   "source": [
    "# Top 10 products sold\n",
    "top_products_sold=total_cost.groupBy(\"Product_Name\").agg({'Total_Cost': 'max'}).withColumnRenamed(\"max(Total_Cost)\", \"Revenue\")\n",
    "top_products_sold=top_products_sold.orderBy(\"Revenue\", ascending=False).select(\"Product_Name\",\"Revenue\").show(10)"
   ]
  },
  {
   "cell_type": "code",
   "execution_count": null,
   "metadata": {
    "application/vnd.databricks.v1+cell": {
     "cellMetadata": {
      "byteLimit": 2048000,
      "rowLimit": 10000
     },
     "inputWidgets": {},
     "nuid": "0802baad-327b-40f1-996a-07d9c8f52033",
     "showTitle": false,
     "title": ""
    }
   },
   "outputs": [
    {
     "name": "stdout",
     "output_type": "stream",
     "text": [
      "+--------------------+----------------+-----+\n",
      "|          Store_Name|      Store_City|Total|\n",
      "+--------------------+----------------+-----+\n",
      "|Maven Toys Guanaj...|      Guanajuato|   50|\n",
      "|Maven Toys Culiac...|        Culiacan|   49|\n",
      "|Maven Toys Saltil...|        Saltillo|   48|\n",
      "|Maven Toys Monter...|       Monterrey|   47|\n",
      "|Maven Toys Guadal...|     Guadalajara|   46|\n",
      "|Maven Toys Ciudad...|Cuidad de Mexico|   45|\n",
      "| Maven Toys Puebla 3|          Puebla|   44|\n",
      "|Maven Toys Durango 1|         Durango|   43|\n",
      "|Maven Toys Hermos...|      Hermosillo|   42|\n",
      "|Maven Toys Hermos...|      Hermosillo|   41|\n",
      "+--------------------+----------------+-----+\n",
      "only showing top 10 rows\n",
      "\n",
      "+--------+--------------------+----------+--------------+---------------+\n",
      "|Store_ID|          Store_Name|Store_City|Store_Location|Store_Open_Date|\n",
      "+--------+--------------------+----------+--------------+---------------+\n",
      "|      14|Maven Toys Guanaj...|Guanajuato|      Downtown|     2007-01-31|\n",
      "|      22|Maven Toys Guanaj...|Guanajuato|    Commercial|     2010-03-29|\n",
      "|      50|Maven Toys Guanaj...|Guanajuato|   Residential|     2016-05-18|\n",
      "+--------+--------------------+----------+--------------+---------------+\n",
      "\n"
     ]
    }
   ],
   "source": [
    "# Total stores by city\n",
    "total_stores=stores.groupBy(\"Store_Name\",\"Store_City\").sum()\n",
    "total_stores=total_stores.orderBy(\"sum(Store_ID)\", ascending=False)\n",
    "total_stores=total_stores.withColumnRenamed(\"sum(Store_ID)\",\"Total\").show(10)\n",
    "# filter by city\n",
    "stores.filter(stores[\"Store_City\"]==\"Guanajuato\").show()"
   ]
  },
  {
   "cell_type": "code",
   "execution_count": null,
   "metadata": {
    "application/vnd.databricks.v1+cell": {
     "cellMetadata": {
      "byteLimit": 2048000,
      "rowLimit": 10000
     },
     "inputWidgets": {},
     "nuid": "9aed8490-0b5c-405c-9af9-4f5f47c07374",
     "showTitle": false,
     "title": ""
    }
   },
   "outputs": [],
   "source": [
    "calendar.repartition(1).write.mode(\"overwrite\").option(\"header\",'true').csv(\"/mnt/toysales-data/transformed-data/calendar\")\n",
    "inventory.repartition(1).write.mode(\"overwrite\").option(\"header\",'true').csv(\"/mnt/toysales-data/transformed-data/inventory\")\n",
    "products.repartition(1).write.mode(\"overwrite\").option(\"header\",'true').csv(\"/mnt/toysales-data/transformed-data/products\")\n",
    "sales.repartition(1).write.mode(\"overwrite\").option(\"header\",'true').csv(\"/mnt/toysales-data/transformed-data/sales\")\n",
    "stores.repartition(1).write.mode(\"overwrite\").option(\"header\",'true').csv(\"/mnt/toysales-data/transformed-data/stores\")"
   ]
  }
 ],
 "metadata": {
  "application/vnd.databricks.v1+notebook": {
   "dashboards": [],
   "language": "python",
   "notebookMetadata": {
    "mostRecentlyExecutedCommandWithImplicitDF": {
     "commandId": 3588685585349305,
     "dataframes": [
      "_sqldf"
     ]
    },
    "pythonIndentUnit": 4
   },
   "notebookName": "Toy Sales Transformation",
   "widgets": {}
  },
  "language_info": {
   "name": "python"
  }
 },
 "nbformat": 4,
 "nbformat_minor": 0
}
